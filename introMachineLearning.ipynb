{
  "nbformat": 4,
  "nbformat_minor": 0,
  "metadata": {
    "colab": {
      "name": "introMachineLearning.ipynb",
      "provenance": [],
      "authorship_tag": "ABX9TyPt/zpDoj0oxn7cM51Nutez",
      "include_colab_link": true
    },
    "kernelspec": {
      "name": "python3",
      "display_name": "Python 3"
    }
  },
  "cells": [
    {
      "cell_type": "markdown",
      "metadata": {
        "id": "view-in-github",
        "colab_type": "text"
      },
      "source": [
        "<a href=\"https://colab.research.google.com/github/marcoscouzads/PythonData/blob/master/introMachineLearning.ipynb\" target=\"_parent\"><img src=\"https://colab.research.google.com/assets/colab-badge.svg\" alt=\"Open In Colab\"/></a>"
      ]
    },
    {
      "cell_type": "code",
      "metadata": {
        "id": "d2Kih0YsMIiL"
      },
      "source": [
        "#começando pela classificação de coisas. A grande sacada é que ela precisa ser treinada igual uma criança\r\n",
        "\r\n",
        "#caracteristicas\r\n",
        "#pelo longo?\r\n",
        "# perna curta?\r\n",
        "# faz auau?\r\n",
        "porco1 = [0, 1, 0]\r\n",
        "porco2 = [0, 1, 1]\r\n",
        "porco3 = [1, 1, 0] \r\n",
        "\r\n",
        "cachorro1 = [0, 1, 1]\r\n",
        "cachorro2 = [1, 0, 1]\r\n",
        "cachorro3 = [1, 1, 1]\r\n",
        "\r\n",
        "#nada a ver com os de cima\r\n",
        "\r\n",
        "treino_x = [porco1, porco2, porco3, cachorro1, cachorro2, cachorro3]\r\n",
        "# f([X, Y, Z]) = 0,1  usa-se função matematica para treinar um algoritmo\r\n",
        "treino_y = [1,1,1,0,0,0]  # 0 cachorro 1 porco    #classificações\r\n"
      ],
      "execution_count": 10,
      "outputs": []
    },
    {
      "cell_type": "code",
      "metadata": {
        "colab": {
          "base_uri": "https://localhost:8080/"
        },
        "id": "bRzkxqK2Pzxx",
        "outputId": "bc77227e-f510-4a88-d5e5-7b65f91e3bfb"
      },
      "source": [
        "#vamos usar uma implementação simples agora\r\n",
        "from sklearn.svm import LinearSVC\r\n",
        "#LinearSVC é como se fosse um cerebro vazio e o comando abaixo server para dizer para ele encaixar os comando na cabeça dele\r\n",
        "modelo = LinearSVC()\r\n",
        "modelo.fit(treino_x, treino_y)\r\n",
        "    #fazer um fit é dizer para encaixar no cerebro da rede neural"
      ],
      "execution_count": 14,
      "outputs": [
        {
          "output_type": "execute_result",
          "data": {
            "text/plain": [
              "LinearSVC(C=1.0, class_weight=None, dual=True, fit_intercept=True,\n",
              "          intercept_scaling=1, loss='squared_hinge', max_iter=1000,\n",
              "          multi_class='ovr', penalty='l2', random_state=None, tol=0.0001,\n",
              "          verbose=0)"
            ]
          },
          "metadata": {
            "tags": []
          },
          "execution_count": 14
        }
      ]
    },
    {
      "cell_type": "code",
      "metadata": {
        "colab": {
          "base_uri": "https://localhost:8080/"
        },
        "id": "uqtEIO9EQwPe",
        "outputId": "01951a9e-db85-4fb8-a95f-3575305eff6c"
      },
      "source": [
        "#vamos agora perguntar para a rede neural sobre um animal misterioso\r\n",
        "animal_misterioso = [1, 1, 1]\r\n",
        "modelo.predict([animal_misterioso]) #aqui só é um teste pois dentro do predict normalmente se usa listas"
      ],
      "execution_count": 16,
      "outputs": [
        {
          "output_type": "execute_result",
          "data": {
            "text/plain": [
              "array([0])"
            ]
          },
          "metadata": {
            "tags": []
          },
          "execution_count": 16
        }
      ]
    },
    {
      "cell_type": "code",
      "metadata": {
        "id": "JmIPHIDKTKWg"
      },
      "source": [
        "# ele acertou em dizer que é 0 (cachorro)\r\n",
        "#fazer um teste com uma lista\r\n",
        "ex1 = [1,1,1]\r\n",
        "ex2 = [1,1,0]\r\n",
        "ex3 = [0,1,1]\r\n",
        "\r\n",
        "teste_x = [ex1, ex2, ex3]\r\n",
        "teste_y = [0, 1, 1]\r\n"
      ],
      "execution_count": 17,
      "outputs": []
    },
    {
      "cell_type": "code",
      "metadata": {
        "colab": {
          "base_uri": "https://localhost:8080/"
        },
        "id": "zQ203JhpUHRe",
        "outputId": "0f47b613-d190-4355-dc2f-b4ac2435b17f"
      },
      "source": [
        "previsoes = modelo.predict(teste_x)\r\n",
        "previsoes"
      ],
      "execution_count": 18,
      "outputs": [
        {
          "output_type": "execute_result",
          "data": {
            "text/plain": [
              "array([0, 1, 0])"
            ]
          },
          "metadata": {
            "tags": []
          },
          "execution_count": 18
        }
      ]
    },
    {
      "cell_type": "code",
      "metadata": {
        "colab": {
          "base_uri": "https://localhost:8080/"
        },
        "id": "po1442GLUaOG",
        "outputId": "df8a0a21-02d9-493c-9af8-61b43c596033"
      },
      "source": [
        "# ele acertou somente os dois primeiros e podemos calcular a taxa de acerto\r\n",
        "from sklearn.metrics import accuracy_score\r\n",
        "#vou comparar com oq eu sei (teste_y) com oq quero saber (previsoes)\r\n",
        "accuracy_score(teste_y, previsoes)\r\n",
        "# a porcentagem de acerto da maquina tem q ser pelo menos maior que a do ser humano."
      ],
      "execution_count": 19,
      "outputs": [
        {
          "output_type": "execute_result",
          "data": {
            "text/plain": [
              "0.6666666666666666"
            ]
          },
          "metadata": {
            "tags": []
          },
          "execution_count": 19
        }
      ]
    },
    {
      "cell_type": "code",
      "metadata": {
        "id": "eRxuzYx3VOOV"
      },
      "source": [
        "import seaborn as sns"
      ],
      "execution_count": 20,
      "outputs": []
    },
    {
      "cell_type": "code",
      "metadata": {
        "colab": {
          "base_uri": "https://localhost:8080/",
          "height": 335
        },
        "id": "bxBdUmFZS9JT",
        "outputId": "fb6e3477-33fc-4819-ce34-5d244b3cbf71"
      },
      "source": [
        "# tudo isso para melhorar a visualização das tabelas\r\n",
        "import matplotlib.pyplot as plt\r\n",
        "sns.countplot(previsoes)\r\n",
        "plt.title(\"previso\");"
      ],
      "execution_count": 22,
      "outputs": [
        {
          "output_type": "stream",
          "text": [
            "/usr/local/lib/python3.6/dist-packages/seaborn/_decorators.py:43: FutureWarning: Pass the following variable as a keyword arg: x. From version 0.12, the only valid positional argument will be `data`, and passing other arguments without an explicit keyword will result in an error or misinterpretation.\n",
            "  FutureWarning\n"
          ],
          "name": "stderr"
        },
        {
          "output_type": "display_data",
          "data": {
            "image/png": "[encoded data removed]",
            "text/plain": [
              "<Figure size 432x288 with 1 Axes>"
            ]
          },
          "metadata": {
            "tags": [],
            "needs_background": "light"
          }
        }
      ]
    },
    {
      "cell_type": "code",
      "metadata": {
        "colab": {
          "base_uri": "https://localhost:8080/",
          "height": 336
        },
        "id": "sHEoJziQTKvo",
        "outputId": "d0f87410-bb49-4a23-dc4a-d72cfe663177"
      },
      "source": [
        "palette = sns.color_palette(\"Blues\")\r\n",
        "sns.countplot(previsoes, palette=palette)"
      ],
      "execution_count": 27,
      "outputs": [
        {
          "output_type": "stream",
          "text": [
            "/usr/local/lib/python3.6/dist-packages/seaborn/_decorators.py:43: FutureWarning: Pass the following variable as a keyword arg: x. From version 0.12, the only valid positional argument will be `data`, and passing other arguments without an explicit keyword will result in an error or misinterpretation.\n",
            "  FutureWarning\n"
          ],
          "name": "stderr"
        },
        {
          "output_type": "execute_result",
          "data": {
            "text/plain": [
              "<matplotlib.axes._subplots.AxesSubplot at 0x7f04c9c75240>"
            ]
          },
          "metadata": {
            "tags": []
          },
          "execution_count": 27
        },
        {
          "output_type": "display_data",
          "data": {
            "image/png": "[encoded data removed]",
            "text/plain": [
              "<Figure size 432x288 with 1 Axes>"
            ]
          },
          "metadata": {
            "tags": [],
            "needs_background": "light"
          }
        }
      ]
    },
    {
      "cell_type": "code",
      "metadata": {
        "id": "dXdXYsE9TzKv"
      },
      "source": [
        ""
      ],
      "execution_count": null,
      "outputs": []
    },
    {
      "cell_type": "code",
      "metadata": {
        "id": "E1YqlCNwaea6"
      },
      "source": [
        ""
      ],
      "execution_count": null,
      "outputs": []
    }
  ]
}