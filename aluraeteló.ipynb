{
  "nbformat": 4,
  "nbformat_minor": 0,
  "metadata": {
    "colab": {
      "name": "aluraeteló.ipynb",
      "provenance": [],
      "authorship_tag": "ABX9TyP1dIbsJ5PlGreUszbtQ+mT",
      "include_colab_link": true
    },
    "kernelspec": {
      "name": "python3",
      "display_name": "Python 3"
    }
  },
  "cells": [
    {
      "cell_type": "markdown",
      "metadata": {
        "id": "view-in-github",
        "colab_type": "text"
      },
      "source": [
        "<a href=\"https://colab.research.google.com/github/marcoscouzads/PythonData/blob/master/aluraetel%C3%B3.ipynb\" target=\"_parent\"><img src=\"https://colab.research.google.com/assets/colab-badge.svg\" alt=\"Open In Colab\"/></a>"
      ]
    },
    {
      "cell_type": "code",
      "metadata": {
        "colab": {
          "base_uri": "https://localhost:8080/"
        },
        "id": "tK_-qgmwtUWX",
        "outputId": "d0d4246e-bb9e-4021-c672-3d08b5593f9a"
      },
      "source": [
        "#conceitos legais para python\r\n",
        "variavel = \"Um_tipo\"\r\n",
        "print(variavel)"
      ],
      "execution_count": 27,
      "outputs": [
        {
          "output_type": "stream",
          "text": [
            "Um_tipo\n"
          ],
          "name": "stdout"
        }
      ]
    },
    {
      "cell_type": "code",
      "metadata": {
        "id": "ndc-ZwtB3K-J"
      },
      "source": [
        "Lista_de_variaveis = [\"tipo0\",\"tipo1\",\"tipo2\",\"tipo3\"]\r\n",
        "def definir_uma_função(Lista_de_variaveis):\r\n",
        "  print(\"apenas para chamar essa lista de variaveis\")\r\n",
        "  return print(\"tes\") "
      ],
      "execution_count": 32,
      "outputs": []
    },
    {
      "cell_type": "code",
      "metadata": {
        "colab": {
          "base_uri": "https://localhost:8080/"
        },
        "id": "yNo8iI_b4Hc_",
        "outputId": "8268144f-675c-4bf7-e037-140417d690e4"
      },
      "source": [
        "#chamar uma função\r\n",
        "definir_uma_função(Lista_de_variaveis)\r\n"
      ],
      "execution_count": 33,
      "outputs": [
        {
          "output_type": "stream",
          "text": [
            "apenas para chamar essa lista de variaveis\n",
            "tes\n"
          ],
          "name": "stdout"
        }
      ]
    },
    {
      "cell_type": "code",
      "metadata": {
        "colab": {
          "base_uri": "https://localhost:8080/",
          "height": 35
        },
        "id": "IQI83xIG5FSV",
        "outputId": "830a738a-53fb-4d14-8cbb-6a842f766a60"
      },
      "source": [
        "#lista só o primeiro filme \r\n",
        "Lista_de_variaveis[0]"
      ],
      "execution_count": 39,
      "outputs": [
        {
          "output_type": "execute_result",
          "data": {
            "application/vnd.google.colaboratory.intrinsic+json": {
              "type": "string"
            },
            "text/plain": [
              "'tipo0'"
            ]
          },
          "metadata": {
            "tags": []
          },
          "execution_count": 39
        }
      ]
    },
    {
      "cell_type": "code",
      "metadata": {
        "colab": {
          "base_uri": "https://localhost:8080/",
          "height": 35
        },
        "id": "8T1Gr4CK5UgN",
        "outputId": "e50aca33-6d0c-47da-99a6-8b4f786bcb40"
      },
      "source": [
        "#lista somente o ultimo\r\n",
        "Lista_de_variaveis[-1]"
      ],
      "execution_count": 40,
      "outputs": [
        {
          "output_type": "execute_result",
          "data": {
            "application/vnd.google.colaboratory.intrinsic+json": {
              "type": "string"
            },
            "text/plain": [
              "'tipo3'"
            ]
          },
          "metadata": {
            "tags": []
          },
          "execution_count": 40
        }
      ]
    },
    {
      "cell_type": "code",
      "metadata": {
        "colab": {
          "base_uri": "https://localhost:8080/"
        },
        "id": "Be_bZfsL52qD",
        "outputId": "3e0a06e2-06b2-42a1-90ff-f27a01d02d50"
      },
      "source": [
        "# listar apartir de alguma posição\r\n",
        "Lista_de_variaveis[1:]"
      ],
      "execution_count": 41,
      "outputs": [
        {
          "output_type": "execute_result",
          "data": {
            "text/plain": [
              "['tipo1', 'tipo2', 'tipo3']"
            ]
          },
          "metadata": {
            "tags": []
          },
          "execution_count": 41
        }
      ]
    },
    {
      "cell_type": "code",
      "metadata": {
        "colab": {
          "base_uri": "https://localhost:8080/"
        },
        "id": "fDspMnvD5-QT",
        "outputId": "eb41b01e-6f41-4bbd-d8bf-0a2e3c1e1222"
      },
      "source": [
        "# usando PARA cada variavel em lista de variaveis liste...\r\n",
        "for variavel in Lista_de_variaveis:\r\n",
        "  print(variavel)\r\n",
        "  print(\"...\")\r\n",
        "print(\"esta fora do laço\")"
      ],
      "execution_count": 43,
      "outputs": [
        {
          "output_type": "stream",
          "text": [
            "tipo0\n",
            "...\n",
            "tipo1\n",
            "...\n",
            "tipo2\n",
            "...\n",
            "tipo3\n",
            "...\n",
            "esta fora do laço\n"
          ],
          "name": "stdout"
        }
      ]
    },
    {
      "cell_type": "code",
      "metadata": {
        "id": "SpEJRHWF62bb"
      },
      "source": [
        "# definição de dicionario \r\n",
        "dados = {\"nome\" : \"marcos\",\r\n",
        "         \"obj\" : \"valor\",\r\n",
        "         \"idade\" : \"25\"}"
      ],
      "execution_count": 44,
      "outputs": []
    },
    {
      "cell_type": "code",
      "metadata": {
        "colab": {
          "base_uri": "https://localhost:8080/"
        },
        "id": "Z3UQGcHw8IVf",
        "outputId": "b7489a53-2426-44e6-8282-f8e794e02761"
      },
      "source": [
        "dados"
      ],
      "execution_count": 45,
      "outputs": [
        {
          "output_type": "execute_result",
          "data": {
            "text/plain": [
              "{'idade': '25', 'nome': 'marcos', 'obj': 'valor'}"
            ]
          },
          "metadata": {
            "tags": []
          },
          "execution_count": 45
        }
      ]
    },
    {
      "cell_type": "code",
      "metadata": {
        "colab": {
          "base_uri": "https://localhost:8080/",
          "height": 35
        },
        "id": "6gCOlp248J2_",
        "outputId": "a2ba1a71-90fd-4b1a-ea4d-77def5f85b21"
      },
      "source": [
        "#se eu quiser pedir so uma informação digo isso:\r\n",
        "dados[\"nome\"]"
      ],
      "execution_count": 46,
      "outputs": [
        {
          "output_type": "execute_result",
          "data": {
            "application/vnd.google.colaboratory.intrinsic+json": {
              "type": "string"
            },
            "text/plain": [
              "'marcos'"
            ]
          },
          "metadata": {
            "tags": []
          },
          "execution_count": 46
        }
      ]
    },
    {
      "cell_type": "code",
      "metadata": {
        "id": "TU9YgFIS8XxX"
      },
      "source": [
        ""
      ],
      "execution_count": null,
      "outputs": []
    }
  ]
}